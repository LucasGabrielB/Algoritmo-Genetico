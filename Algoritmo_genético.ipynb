{
  "nbformat": 4,
  "nbformat_minor": 0,
  "metadata": {
    "colab": {
      "name": "Algoritmo genético.ipynb",
      "provenance": [],
      "collapsed_sections": []
    },
    "kernelspec": {
      "name": "python3",
      "display_name": "Python 3"
    }
  },
  "cells": [
    {
      "cell_type": "markdown",
      "metadata": {
        "id": "bJishmzCz-Sh"
      },
      "source": [
        "# Criando o algoritmo genetico"
      ]
    },
    {
      "cell_type": "code",
      "metadata": {
        "id": "SsWMdWdzPAkb"
      },
      "source": [
        "import random\r\n",
        "import numpy as np"
      ],
      "execution_count": 2,
      "outputs": []
    },
    {
      "cell_type": "code",
      "metadata": {
        "id": "8jd_7tvYLYBf"
      },
      "source": [
        "class AlgoritmoGenetico:\r\n",
        "    ''' Algoritmo genetico simples. '''\r\n",
        "\r\n",
        "    def __init__(self, funcao_de_fitness, formato: list, tamanho_populacao: int=100, \r\n",
        "                 chance_de_mutacao: float=.1, chance_de_cruzamento: float=.5, \r\n",
        "                 quantidade_melhores: int=10, quantidade_de_geracoes: int=100,\r\n",
        "                 minimizar_funcao_de_fitness: bool=True) -> None:\r\n",
        "        '''\r\n",
        "            Parametros:  \r\n",
        "                tamanho_populacao: Tamanho da população que sera utilizado pelo algoritmo.\r\n",
        "                formato: formato Definindo os limites e o numero de parametros dos individuos, exemplos:\r\n",
        "                    formato = [[0, 255], [0, 255], [0, 255]], seria um individuo com 3 parametros cujo os valores variam de 0 a 255.  \r\n",
        "                    formato = [[-10, 10]], seria um individuo com 1 parametro cujo os valores variam de -10 a 10.  \r\n",
        "                chance_de_mutacao: Valor de 0 a 1, chance de mutação de um peso qualquer.  \r\n",
        "                chance_de_cruzamento: Valor de 0 a 1, chance de cruzamento de um individuo com outro.  \r\n",
        "                funcao_de_fitness: Função de fitness que sera utilizada pelo modelo.  \r\n",
        "                quantidade_melhores: Quantidade de individuos de geração atual que seram selecionados para a proxima geração.  \r\n",
        "                quantidade_de_geracoes: Quantidade de gerações que seram geradas.  \r\n",
        "                minimizar_funcao_de_fitness: Quando True os individuos com o menor valor quando \r\n",
        "                    avaliados pela função funcao_de_fitness são considerados melhores, quando False os\r\n",
        "                    os individuos com o maior valor quando avaliados pela função funcao_de_fitness são considerados melhores\r\n",
        "        '''\r\n",
        "        \r\n",
        "        self._tamanho_populacao = tamanho_populacao\r\n",
        "        self._funcao_de_fitness = funcao_de_fitness\r\n",
        "        self._chance_de_mutacao = chance_de_mutacao\r\n",
        "        self._chance_de_cruzamento = chance_de_cruzamento\r\n",
        "        self._quantidade_melhores = quantidade_melhores\r\n",
        "        self._quantidade_de_geracoes = quantidade_de_geracoes\r\n",
        "        self._minimizar_funcao_de_fitness = minimizar_funcao_de_fitness\r\n",
        "        self._formato = formato\r\n",
        "\r\n",
        "\r\n",
        "    def rodar(self) -> list:\r\n",
        "        ''' Executa o algoritmo e retorna o resultado do melhor individuo '''\r\n",
        "        \r\n",
        "        self._gera_populacao_aleatoria()\r\n",
        "        for _ in range(self._quantidade_de_geracoes):\r\n",
        "            self._selecao_e_reproducao()\r\n",
        "        \r\n",
        "        return self._populacao_ordenada_pela_aptidao()[0]\r\n",
        "\r\n",
        "\r\n",
        "    def _gera_populacao_aleatoria(self) -> None:\r\n",
        "        ''' Gera uma população aleatoria. '''\r\n",
        "        self._populacao = [\r\n",
        "                [random.randint(f[0], f[1]) for f in self._formato] \r\n",
        "                for _ in range(self._tamanho_populacao)\r\n",
        "        ]\r\n",
        "\r\n",
        "\r\n",
        "    def _populacao_ordenada_pela_aptidao(self) -> list:\r\n",
        "        ''' Retorna a populacao ordenada pela aptidao, calculada apartir da função de fitness. '''\r\n",
        "        # executa a funcao de fitness para todos os individuos da populacao\r\n",
        "        aptidao_de_cada_individuo = [\r\n",
        "                   {'aptidao': self._funcao_de_fitness(individuo),\r\n",
        "                    'individuo': individuo} \r\n",
        "                   for individuo in self._populacao\r\n",
        "        ]\r\n",
        "        \r\n",
        "        # ordenando a populacao de acordo com a aptidao de cada individuo\r\n",
        "        aptidao_de_cada_individuo = sorted(aptidao_de_cada_individuo, key=lambda item: item['aptidao'], reverse=not self._minimizar_funcao_de_fitness)\r\n",
        "\r\n",
        "        return [i['individuo'] for i in aptidao_de_cada_individuo]\r\n",
        "\r\n",
        "\r\n",
        "    def _selecao_e_reproducao(self) -> None:\r\n",
        "        ''' Gera a proxima geração usando a geração anterior como base. '''\r\n",
        "\r\n",
        "        proxima_geracao = self._populacao_ordenada_pela_aptidao()[:self._quantidade_melhores]\r\n",
        "\r\n",
        "        while len(proxima_geracao) < self._tamanho_populacao:\r\n",
        "            individuo1, individuo2 = random.choices(proxima_geracao, k=2)\r\n",
        "            filho = self._cruzamento(individuo1, individuo2)\r\n",
        "            self._mutacao(filho)\r\n",
        "            \r\n",
        "            proxima_geracao.append(filho)\r\n",
        "\r\n",
        "        self._populacao = proxima_geracao\r\n",
        "        \r\n",
        "\r\n",
        "    def _mutacao(self, individuo) -> list:\r\n",
        "        ''' Aplica uma mutação aleatoria para um individuo. '''\r\n",
        "\r\n",
        "        resultado = individuo.copy()\r\n",
        "\r\n",
        "        for i, f in enumerate(self._formato):\r\n",
        "            if np.random.random() >= self._chance_de_cruzamento:\r\n",
        "                resultado[i] = individuo[i] + random.randint(f[0], f[1]) % f[1]\r\n",
        "\r\n",
        "        return resultado\r\n",
        "\r\n",
        "\r\n",
        "    def _cruzamento(self, individuo1: list, individuo2: list) -> list:\r\n",
        "        ''' Realiza o cruzamento entre dois individuos. '''\r\n",
        "\r\n",
        "        filho = individuo1.copy()\r\n",
        "\r\n",
        "        for i in range(len(self._formato)):\r\n",
        "            if np.random.random() <= self._chance_de_cruzamento:\r\n",
        "                    filho[i] = individuo2[i]\r\n",
        "\r\n",
        "        return filho\r\n"
      ],
      "execution_count": 3,
      "outputs": []
    },
    {
      "cell_type": "markdown",
      "metadata": {
        "id": "yJoFNBMLz57h"
      },
      "source": [
        "# Testando o algoritmo"
      ]
    },
    {
      "cell_type": "markdown",
      "metadata": {
        "id": "6zNTpWDc11Tt"
      },
      "source": [
        "Tentando achar os valores cuja soma seja mais proximo de 0 possivel:\r\n",
        "\r\n"
      ]
    },
    {
      "cell_type": "code",
      "metadata": {
        "colab": {
          "base_uri": "https://localhost:8080/"
        },
        "id": "Lq9G2HUmLy95",
        "outputId": "cb9d1e13-0b76-471e-fe9b-a3a807a93312"
      },
      "source": [
        "def funcao_de_fitness(x):\r\n",
        "    return sum(x)\r\n",
        "\r\n",
        "algoritmo_genetico = AlgoritmoGenetico(formato=[[0, 100], [0, 100], [0, 100]], \r\n",
        "                                       funcao_de_fitness=funcao_de_fitness,\r\n",
        "                                       minimizar_funcao_de_fitness=True)\r\n",
        "\r\n",
        "algoritmo_genetico.rodar()"
      ],
      "execution_count": null,
      "outputs": [
        {
          "output_type": "execute_result",
          "data": {
            "text/plain": [
              "[0, 5, 1]"
            ]
          },
          "metadata": {
            "tags": []
          },
          "execution_count": 45
        }
      ]
    },
    {
      "cell_type": "markdown",
      "metadata": {
        "id": "mfeEVa792C2x"
      },
      "source": [
        "Invertendo, tentando achar os valores cuja soma seja a mais alta possivel:"
      ]
    },
    {
      "cell_type": "code",
      "metadata": {
        "colab": {
          "base_uri": "https://localhost:8080/"
        },
        "id": "zVSSMpdR10b2",
        "outputId": "64d9dc7f-2951-4352-e484-acaaeafb0e0a"
      },
      "source": [
        "def funcao_de_fitness(x):\r\n",
        "    return sum(x)\r\n",
        "\r\n",
        "algoritmo_genetico = AlgoritmoGenetico(formato=[[0, 100], [0, 100], [0, 100]], \r\n",
        "                                       funcao_de_fitness=funcao_de_fitness,\r\n",
        "                                       minimizar_funcao_de_fitness=False)\r\n",
        "\r\n",
        "algoritmo_genetico.rodar()"
      ],
      "execution_count": null,
      "outputs": [
        {
          "output_type": "execute_result",
          "data": {
            "text/plain": [
              "[99, 99, 99]"
            ]
          },
          "metadata": {
            "tags": []
          },
          "execution_count": 195
        }
      ]
    },
    {
      "cell_type": "markdown",
      "metadata": {
        "id": "5Hk9wxM4GyyJ"
      },
      "source": [
        "Tentando achar a cor mais clara possivel:"
      ]
    },
    {
      "cell_type": "code",
      "metadata": {
        "colab": {
          "base_uri": "https://localhost:8080/",
          "height": 269
        },
        "id": "nUAhwqllGyAA",
        "outputId": "fdcae148-7852-46d0-9875-ed5ae91c3e0b"
      },
      "source": [
        "import colorsys\r\n",
        "import matplotlib.pyplot as plt\r\n",
        "\r\n",
        "def funcao_de_fitness(rgb):\r\n",
        "    hsv = colorsys.rgb_to_hsv(*rgb)\r\n",
        "    return hsv[2]\r\n",
        "\r\n",
        "algoritmo_genetico = AlgoritmoGenetico(formato=[[0, 255], [0, 255], [0, 255]], \r\n",
        "                                       funcao_de_fitness=funcao_de_fitness,\r\n",
        "                                       minimizar_funcao_de_fitness=False)\r\n",
        "\r\n",
        "rgb = algoritmo_genetico.rodar()\r\n",
        "hex_color = '#{0:02x}{1:02x}{2:02x}'.format(*rgb)\r\n",
        "fig = plt.figure(facecolor='black')\r\n",
        "ax = fig.add_subplot()\r\n",
        "ax.set_facecolor(hex_color)\r\n",
        "plt.show()"
      ],
      "execution_count": 4,
      "outputs": [
        {
          "output_type": "display_data",
          "data": {
            "image/png": "[encoded data removed]",
            "text/plain": [
              "<Figure size 432x288 with 1 Axes>"
            ]
          },
          "metadata": {
            "tags": []
          }
        }
      ]
    }
  ]
}